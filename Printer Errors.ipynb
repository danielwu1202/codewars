{
 "cells": [
  {
   "cell_type": "code",
   "execution_count": 32,
   "metadata": {},
   "outputs": [],
   "source": [
    "# my solution\n",
    "def printer_error(s):\n",
    "    color = ['a', 'b', 'c', 'd', 'e', 'f', 'g', 'h', 'i', 'j', 'k', 'l' ,'m']\n",
    "    error = []\n",
    "    for letters in s:\n",
    "        if letters not in color:\n",
    "            error.append(letters)\n",
    "    return('%d/%d' % (len(error), len(s)))"
   ]
  },
  {
   "cell_type": "code",
   "execution_count": 33,
   "metadata": {},
   "outputs": [
    {
     "name": "stdout",
     "output_type": "stream",
     "text": [
      "3/56\n"
     ]
    }
   ],
   "source": [
    "# best solution\n",
    "from re import sub\n",
    "def printer_error(s):\n",
    "    return \"{}/{}\".format(len(sub(\"[a-m]\",'',s)),len(s))"
   ]
  }
 ],
 "metadata": {
  "kernelspec": {
   "display_name": "Python 3",
   "language": "python",
   "name": "python3"
  },
  "language_info": {
   "codemirror_mode": {
    "name": "ipython",
    "version": 3
   },
   "file_extension": ".py",
   "mimetype": "text/x-python",
   "name": "python",
   "nbconvert_exporter": "python",
   "pygments_lexer": "ipython3",
   "version": "3.7.7"
  }
 },
 "nbformat": 4,
 "nbformat_minor": 4
}
