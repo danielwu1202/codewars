{
 "cells": [
  {
   "cell_type": "code",
   "execution_count": 18,
   "metadata": {},
   "outputs": [],
   "source": [
    "def catch_sign_change(lst):\n",
    "    count = 0\n",
    "    n = len(lst)\n",
    "    for i in range(0, n-1):\n",
    "        if lst[i] < 0 and lst[i+1] >= 0:\n",
    "            count += 1\n",
    "        elif lst[i] > 0 and lst[i+1] < 0:\n",
    "            count += 1\n",
    "        elif lst[i] == 0 and lst[i+1] < 0:\n",
    "            count += 1\n",
    "    if lst == []:\n",
    "        return 0\n",
    "    else:\n",
    "        return count"
   ]
  },
  {
   "cell_type": "code",
   "execution_count": 20,
   "metadata": {},
   "outputs": [
    {
     "data": {
      "text/plain": [
       "3"
      ]
     },
     "execution_count": 20,
     "metadata": {},
     "output_type": "execute_result"
    }
   ],
   "source": [
    "catch_sign_change([-47,84,-30,-11,-5,74,77])"
   ]
  }
 ],
 "metadata": {
  "kernelspec": {
   "display_name": "Python 3",
   "language": "python",
   "name": "python3"
  },
  "language_info": {
   "codemirror_mode": {
    "name": "ipython",
    "version": 3
   },
   "file_extension": ".py",
   "mimetype": "text/x-python",
   "name": "python",
   "nbconvert_exporter": "python",
   "pygments_lexer": "ipython3",
   "version": "3.7.7"
  }
 },
 "nbformat": 4,
 "nbformat_minor": 4
}
