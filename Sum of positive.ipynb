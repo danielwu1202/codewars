{
 "cells": [
  {
   "cell_type": "code",
   "execution_count": 1,
   "metadata": {},
   "outputs": [],
   "source": [
    "# wrong answer\n",
    "def positive_sum(arr):\n",
    "    if sum(arr) < 0:\n",
    "        return 0\n",
    "    for i in arr:\n",
    "        if i < 0:\n",
    "            arr.remove(i)\n",
    "    return sum(arr) "
   ]
  },
  {
   "cell_type": "code",
   "execution_count": 2,
   "metadata": {},
   "outputs": [
    {
     "data": {
      "text/plain": [
       "542"
      ]
     },
     "execution_count": 2,
     "metadata": {},
     "output_type": "execute_result"
    }
   ],
   "source": [
    "positive_sum([-54, 36, -28, 84, 42, -94, 13, -74, 77, -1, 85, -60, 100, 12, -5, 98, -47, -61, -50, -29, 85, -34])"
   ]
  },
  {
   "cell_type": "code",
   "execution_count": 1,
   "metadata": {},
   "outputs": [],
   "source": [
    "# solution\n",
    "def positive_sum(arr):\n",
    "    sum = 0\n",
    "    for i in arr:\n",
    "        if i > 0:\n",
    "            sum = sum + i\n",
    "    return sum"
   ]
  }
 ],
 "metadata": {
  "kernelspec": {
   "display_name": "Python 3",
   "language": "python",
   "name": "python3"
  },
  "language_info": {
   "codemirror_mode": {
    "name": "ipython",
    "version": 3
   },
   "file_extension": ".py",
   "mimetype": "text/x-python",
   "name": "python",
   "nbconvert_exporter": "python",
   "pygments_lexer": "ipython3",
   "version": "3.7.7"
  }
 },
 "nbformat": 4,
 "nbformat_minor": 4
}
