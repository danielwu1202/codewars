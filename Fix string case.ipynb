{
 "cells": [
  {
   "cell_type": "code",
   "execution_count": 2,
   "metadata": {},
   "outputs": [],
   "source": [
    "def solve(s):\n",
    "    uppercase = 0\n",
    "    lowercase = 0\n",
    "    for letters in s:\n",
    "        if letters.islower():\n",
    "            lowercase += lowercase + 1\n",
    "        elif letters.isupper():\n",
    "            uppercase += uppercase + 1\n",
    "    if lowercase >= uppercase:\n",
    "        s = s.lower()\n",
    "    else:\n",
    "        s = s.upper()\n",
    "    return s"
   ]
  }
 ],
 "metadata": {
  "kernelspec": {
   "display_name": "Python 3",
   "language": "python",
   "name": "python3"
  },
  "language_info": {
   "codemirror_mode": {
    "name": "ipython",
    "version": 3
   },
   "file_extension": ".py",
   "mimetype": "text/x-python",
   "name": "python",
   "nbconvert_exporter": "python",
   "pygments_lexer": "ipython3",
   "version": "3.7.7"
  }
 },
 "nbformat": 4,
 "nbformat_minor": 4
}
