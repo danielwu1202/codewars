{
 "cells": [
  {
   "cell_type": "code",
   "execution_count": null,
   "metadata": {},
   "outputs": [],
   "source": [
    "# my solution (wrong)\n",
    "def get_strings(city):\n",
    "    string = []\n",
    "    dic = {}\n",
    "    city = city.lower()\n",
    "    for letters in city:\n",
    "        string.append(letters)\n",
    "    for i in string:\n",
    "        dic.setdefault(i,0)\n",
    "        dic[i] += 1\n",
    "    for key in dic.keys():\n",
    "        print(key, '*' * dic[key])"
   ]
  },
  {
   "cell_type": "code",
   "execution_count": 11,
   "metadata": {},
   "outputs": [],
   "source": [
    "# best solution\n",
    "def get_strings(city):\n",
    "    city = city.lower()\n",
    "    result = \"\"\n",
    "    for i in city:\n",
    "        if i in result:\n",
    "            pass\n",
    "        elif i == \" \":\n",
    "            pass\n",
    "        else:\n",
    "            result += i + \":\" + (\"*\" * city.count(i)) + \",\"\n",
    "\n",
    "    return result[:-1]"
   ]
  },
  {
   "cell_type": "code",
   "execution_count": 12,
   "metadata": {},
   "outputs": [
    {
     "data": {
      "text/plain": [
       "'c:**,h:*,i:*,a:*,g:*,o:*'"
      ]
     },
     "execution_count": 12,
     "metadata": {},
     "output_type": "execute_result"
    }
   ],
   "source": [
    "get_strings('Chicago')"
   ]
  }
 ],
 "metadata": {
  "kernelspec": {
   "display_name": "Python 3",
   "language": "python",
   "name": "python3"
  },
  "language_info": {
   "codemirror_mode": {
    "name": "ipython",
    "version": 3
   },
   "file_extension": ".py",
   "mimetype": "text/x-python",
   "name": "python",
   "nbconvert_exporter": "python",
   "pygments_lexer": "ipython3",
   "version": "3.7.7"
  }
 },
 "nbformat": 4,
 "nbformat_minor": 4
}
