{
 "cells": [
  {
   "cell_type": "code",
   "execution_count": 1,
   "metadata": {},
   "outputs": [],
   "source": [
    "# my solution\n",
    "def quarter_of(month):\n",
    "    if month <= 3:\n",
    "        return 1\n",
    "    elif 4 <= month <= 6:\n",
    "        return 2\n",
    "    elif 7 <= month <= 9:\n",
    "        return 3\n",
    "    elif 10 <= month <= 12:\n",
    "        return 4"
   ]
  },
  {
   "cell_type": "code",
   "execution_count": 5,
   "metadata": {},
   "outputs": [
    {
     "data": {
      "text/plain": [
       "1"
      ]
     },
     "execution_count": 5,
     "metadata": {},
     "output_type": "execute_result"
    }
   ],
   "source": [
    "# best solution\n",
    "def quarter_of(month):\n",
    "    # your code here\n",
    "    if month in range(1, 4):\n",
    "        return 1\n",
    "    elif month in range(4, 7):\n",
    "        return 2\n",
    "    elif month in range(7, 10):\n",
    "        return 3\n",
    "    elif month in range(10, 13):\n",
    "        return 4"
   ]
  }
 ],
 "metadata": {
  "kernelspec": {
   "display_name": "Python 3",
   "language": "python",
   "name": "python3"
  },
  "language_info": {
   "codemirror_mode": {
    "name": "ipython",
    "version": 3
   },
   "file_extension": ".py",
   "mimetype": "text/x-python",
   "name": "python",
   "nbconvert_exporter": "python",
   "pygments_lexer": "ipython3",
   "version": "3.7.7"
  }
 },
 "nbformat": 4,
 "nbformat_minor": 4
}
